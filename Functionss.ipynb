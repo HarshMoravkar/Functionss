{
  "nbformat": 4,
  "nbformat_minor": 0,
  "metadata": {
    "colab": {
      "provenance": []
    },
    "kernelspec": {
      "name": "python3",
      "display_name": "Python 3"
    },
    "language_info": {
      "name": "python"
    }
  },
  "cells": [
    {
      "cell_type": "markdown",
      "source": [
        "# Function"
      ],
      "metadata": {
        "id": "yLWT7q3z_VLQ"
      }
    },
    {
      "cell_type": "markdown",
      "source": [
        "Q1.What is Object-Oriented Programming (OOP)?\n",
        "\n",
        "   - Object-Oriented Programming (OOP) is a programming paradigm based on the concept of “objects”, which can contain data (fields, often called attributes) and code (procedures, often called methods).\n",
        "\n",
        "Q2.What is a class in OOP?\n",
        "\n",
        "  - A class in Object-Oriented Programming (OOP) is a blueprint or template used to create objects. It defines the attributes (data) and methods (functions) that the objects created from the class will have.\n",
        "\n",
        "Q3.What is an object in OOP?\n",
        "\n",
        "  - An object in Object-Oriented Programming (OOP) is an instance of a class. It is a real-world entity created based on the class blueprint, containing actual values for the attributes and the ability to use the class's methods.\n",
        "\n",
        "Q4.What is the difference between abstraction and encapsulation?\n",
        "\n",
        "  - Abstraction is the concept of hiding complex details and showing only the essential features of an object. It helps you focus on what an object does, rather than how it does it. For example, when you use a TV remote, you only press buttons to change channels or volume — you don’t need to know how the remote sends signals or how the TV processes them. In programming, abstraction is achieved through abstract classes, interfaces, and method overriding, allowing users to interact with objects at a high level without worrying about their inner workings.\n",
        "\n",
        "  Encapsulation, on the other hand, means bundling data and methods that operate on that data into a single unit (usually a class), and then restricting access to some parts of that data. It’s about protecting the internal state of an object from unintended or unauthorized access. For instance, in a class, you might make some attributes private and only allow access to them through getter and setter methods. This ensures that data is not changed in unexpected ways and provides better control over how an object’s data is used.\n",
        "\n",
        "Q5.What are dunder methods in Python?\n",
        "\n",
        "  - Dunder methods (short for \"double underscore methods\") are special methods in Python that have two underscores before and after their names, like __init__, __str__, or __len__. They are also called magic methods or special methods, and Python uses them to give objects special behavior.\n",
        "\n",
        "Q6.Explain the concept of inheritance in OOP?\n",
        "\n",
        "  -  Inheritance is a core concept in Object-Oriented Programming (OOP) that allows a class (child or subclass) to inherit attributes and methods from another class (parent or superclass). It promotes code reuse, extensibility, and helps organize code in a hierarchical manner.\n",
        "\n",
        "Q7.What is polymorphism in OOP?\n",
        "\n",
        "  - Polymorphism is a concept in Object-Oriented Programming (OOP) that means \"many forms\". It allows objects of different classes to be treated through the same interface, and lets the same method name behave differently depending on the object it is acting upon.\n",
        "\n",
        "Q8.How is encapsulation achieved in Python?\n",
        "\n",
        "  - Encapsulation in Python is the practice of hiding the internal state (data) of an object and restricting access to it from outside the class. This protects the data from being modified directly, ensuring better control and integrity.\n",
        "\n",
        "Q9.What is a constructor in Python?\n",
        "\n",
        "  -  A constructor in Python is a special method called __init__() that is automatically called when you create (instantiate) an object from a class. Its main job is to initialize the object’s attributes with the values you provide or default values.\n",
        "\n",
        "Q10.What are class and static methods in Python?\n",
        "\n",
        "  - Both class methods and static methods are special methods inside a class that are not tied to a specific object instance. They are used to perform actions related to the class itself, rather than to individual objects.\n",
        "\n",
        "Q11.What is method overloading in Python?\n",
        "\n",
        "  - Method Overloading refers to the ability of a class to define multiple methods with the same name but different parameters (such as a different number of arguments or argument types). It is a form of polymorphism, allowing the same method name to behave differently based on input.\n",
        "\n",
        "Q12.What is method overriding in OOP?\n",
        "\n",
        "  - Method Overriding is a feature in object-oriented programming where a subclass (child class) provides a specific implementation of a method that is already defined in its superclass (parent class).\n",
        "\n",
        "  The overridden method in the child class must have the same name, return type, and parameters as in the parent class.\n",
        "\n",
        "Q13.What is a property decorator in Python?\n",
        "\n",
        "  - The property decorator in Python is used to define methods that can be accessed like attributes. It allows you to encapsulate instance variables while still providing a clean interface for getting (and optionally setting) their values.\n",
        "\n",
        "Q14.Why is polymorphism important in OOP?\n",
        "\n",
        "  - Polymorphism is a core concept in Object-Oriented Programming that allows objects of different classes to be treated as objects of a common superclass. It enables the same interface to represent different underlying forms (\"many forms\").\n",
        "\n",
        "Q15.What is an abstract class in Python?\n",
        "\n",
        "  - An abstract class in Python is a class that cannot be instantiated directly. It is designed to serve as a base class from which other classes are derived. Abstract classes may include one or more abstract methods—methods that are declared but do not contain implementation.\n",
        "\n",
        "  Abstract classes help enforce a contract for subclasses to implement certain methods.\n",
        "\n",
        "Q16.What are the advantages of OOP?\n",
        "\n",
        "  - Object-Oriented Programming (OOP) is a programming paradigm based on the concept of objects, which contain data (attributes) and methods (functions) that operate on that data. It is widely used for building large, maintainable, and scalable software systems.\n",
        "\n",
        "  Advantages of OOP\n",
        "\n",
        "   1.Modularity\n",
        "  Code is organized into classes and objects, making it more modular.\n",
        "\n",
        "  Each class is self-contained, which improves readability and organization.\n",
        "\n",
        "  Example: A Car class can exist independently from a Bike class, even if they share some behavior.\n",
        "\n",
        "   2.Reusability\n",
        "  Using inheritance, classes can reuse code from existing classes.\n",
        "\n",
        "  Promotes DRY (Don’t Repeat Yourself) principles.\n",
        "\n",
        "  Example: A Dog class can inherit from an Animal class and reuse methods like eat() or sleep().\n",
        "\n",
        "   3.Data Encapsulation\n",
        "  Internal data of objects is hidden using private/protected attributes.\n",
        "\n",
        "  Access to data is controlled using getters/setters or the @property decorator.\n",
        "\n",
        "  Example: A bank account class hides balance details and provides methods to deposit/withdraw safely.\n",
        "\n",
        "   4.Abstraction\n",
        "  Hides complex implementation details and shows only the essential features.\n",
        "\n",
        "  Helps reduce complexity and increases efficiency.\n",
        "\n",
        "  Example: A user can call vehicle.start() without needing to know how the engine works internally.\n",
        "\n",
        "   5.Polymorphism\n",
        "  Allows the same interface (method name) to behave differently for different classes.\n",
        "\n",
        "  Improves flexibility and simplifies code.\n",
        "\n",
        "  Example: make_sound() might print \"Bark\" for a Dog and \"Meow\" for a Cat.\n",
        "\n",
        "   6.Easy Maintenance and Upgrades\n",
        "  Changes in one part of the system can be made with minimal impact on others.\n",
        "\n",
        "  OOP structures support large teams working on complex systems.\n",
        "\n",
        "  Example: If you update the Vehicle base class, all subclasses automatically inherit the change.\n",
        "\n",
        "   7.Improved Collaboration\n",
        "  Teams can work on separate classes/modules independently.\n",
        "\n",
        "  Object-oriented design maps well to real-world roles and responsibilities.\n",
        "\n",
        "Q17.What is the difference between a class variable and an instance variable?\n",
        "\n",
        "  - Class Variables vs Instance Variables\n",
        "  In object-oriented programming, variables defined in a class can be categorized into class variables and instance variables. These two types of variables differ in scope, behavior, and how they are shared across instances.\n",
        "\n",
        "  1 .Instance Variables\n",
        "\n",
        "  Definition:\n",
        "\n",
        "  Instance variables are variables that are defined inside a class method (commonly within the __init__ constructor) using the self keyword. They are unique to each instance of the class.\n",
        "\n",
        "  Characteristics:\n",
        "\n",
        "    1.Declared using self.variable_name\n",
        "\n",
        "    2.Each object has its own separate copy\n",
        "\n",
        "    3.Can have different values for different objects\n",
        "\n",
        "    4.Usually set during object initialization\n",
        "\n",
        "  2. Class Variables\n",
        "\n",
        "  Definition:\n",
        "  Class variables are variables that are shared among all instances of a class. They are defined directly within the class body, outside of any instance methods.\n",
        "\n",
        "  Characteristics:\n",
        "\n",
        "   1.Declared using the class name or inside the class, outside methods\n",
        "\n",
        "   2.Shared across all instances\n",
        "\n",
        "   3.Changing the value affects all instances (unless overridden in a specific object)\n",
        "\n",
        "Q18.What is multiple inheritance in Python?\n",
        "\n",
        "  - Multiple inheritance is a feature in Python (and some other object-oriented programming languages) where a class can inherit attributes and methods from more than one parent class.\n",
        "\n",
        "  Allows a class to combine behaviors and properties from multiple classes.\n",
        "\n",
        "  Facilitates code reuse and the creation of complex object hierarchies.\n",
        "\n",
        "Q19.Explain the purpose of ‘’__str__’ and ‘__repr__’ ‘ methods in Python?\n",
        "\n",
        "  - In Python, two special methods—__str__() and __repr__()—are used to define how an object is represented as a string. These methods play a crucial role in object-oriented programming, especially in debugging and user-facing output.\n",
        "\n",
        "  1. The __str__() Method\n",
        "\n",
        "   The __str__() method is intended to provide a human-readable string representation of an object. It is automatically called when the built-in str() function is used or when the object is printed using the print() function.\n",
        "\n",
        "  2. The __repr__() Method\n",
        "\n",
        "  The __repr__() method is intended to provide an unambiguous, developer-friendly string representation of an object. Ideally, this string should be a valid Python expression that could recreate the object if passed to eval().  \n",
        "    \n",
        "Q20.What is the significance of the ‘super()’ function in Python?\n",
        "\n",
        "  - Definition\n",
        "  The super() function in Python is used to give access to methods and properties of a parent or sibling class from a child class. It is commonly used in class inheritance to call a method from the parent class without explicitly naming it.\n",
        "\n",
        "  Purpose of super()\n",
        "  Avoids hardcoding the parent class name, making the code more maintainable.\n",
        "\n",
        "  Supports multiple inheritance by ensuring the correct method resolution order (MRO).\n",
        "\n",
        "  Allows child classes to extend or override parent methods while still using the functionality defined in the parent.\n",
        "\n",
        "Q21.What is the significance of the __del__ method in Python?\n",
        "\n",
        "  - The __del__() method in Python is a destructor method. It is called automatically when an object is about to be destroyed (i.e., when there are no more references to the object). This method allows you to define cleanup behavior such as releasing resources (e.g., closing files, network connections).\n",
        "\n",
        "  Purpose of __del__()\n",
        "  To define custom cleanup actions when an object is garbage collected.\n",
        "\n",
        "  Typically used to:\n",
        "\n",
        "  Close files or network connections.\n",
        "\n",
        "  Release external resources.\n",
        "\n",
        "Q22.What is the difference between staticmethod and classmethod in Python?\n",
        "\n",
        "  - In Python, both staticmethod and classmethod are decorators used to define methods inside a class that are not instance methods. However, they serve different purposes and behave differently.\n",
        "\n",
        "   1.staticmethod\n",
        "  \n",
        "  A staticmethod defines a method that does not receive an implicit first argument (i.e., no self or cls). It behaves like a regular function, but it belongs to the class’s namespace.\n",
        "\n",
        "  When to Use:\n",
        "\n",
        "  Use staticmethod when you want to group a function logically within a class, but it does not need access to class or instance data.\n",
        "\n",
        "   2.classmethod\n",
        "  \n",
        "  A classmethod receives the class itself as the first argument (usually named cls). This allows the method to access or modify class-level attributes and create class-based logic.\n",
        "\n",
        "  When to Use:\n",
        "  Use classmethod when you need to:\n",
        "\n",
        "  Access or modify class variables.\n",
        "\n",
        "  Implement alternative constructors.\n",
        "\n",
        "Q23.How does polymorphism work in Python with inheritance?\n",
        "\n",
        "  - Polymorphism is a fundamental concept in object-oriented programming (OOP) that allows objects of different classes to be treated as objects of a common superclass. It refers to the ability of different classes to respond to the same method call in different ways.\n",
        "\n",
        "  In Python, polymorphism is often used in combination with inheritance, where a base class defines a common interface, and derived classes provide specific implementations of that interface.\n",
        "\n",
        "  Base Class: A general class that defines common behavior (e.g., a method).\n",
        "\n",
        "  Derived Class: A class that inherits from the base class and overrides the behavior.\n",
        "\n",
        "  Method Overriding: A derived class provides a specific implementation of a method defined in the base class.\n",
        "\n",
        "  Dynamic Dispatch: At runtime, Python determines which method implementation to call, based on the object's actual class.\n",
        "\n",
        "Q24.What is method chaining in Python OOP?\n",
        "\n",
        "  - Method chaining is a programming technique in object-oriented programming (OOP) where multiple methods are called on the same object in a single line of code. Each method returns the object itself (self), allowing the next method to be called directly on it.\n",
        "\n",
        "  Fluent Interface: Method chaining is often used to implement a fluent interface, promoting readable and concise code.\n",
        "\n",
        "  Returning self: Methods must return self to allow chaining.\n",
        "\n",
        "  Object State: Each method typically modifies the internal state of the object and returns it.\n",
        "\n",
        "Q25.What is the purpose of the __call__ method in Python?\n",
        "\n",
        "  - The __call__ method in Python is a special or \"magic\" method that allows an instance of a class to be called as if it were a function.\n",
        "\n",
        "  When you define a __call__ method in a class, you can use the object like a function:\n",
        "\n",
        "  obj()  # This will invoke obj.__call__()\n",
        "\n",
        "  The primary purpose of __call__ is to allow objects to be callable. This is useful when you want to:\n",
        "\n",
        "  Create objects that behave like functions\n",
        "\n",
        "  Maintain state across calls\n",
        "\n",
        "  Implement function wrappers, decorators, or callback handlers\n",
        "\n",
        "  Use object-oriented principles while retaining function-call syntax\n"
      ],
      "metadata": {
        "id": "wzEJSPRv_c9C"
      }
    },
    {
      "cell_type": "markdown",
      "source": [
        "# Practical Question"
      ],
      "metadata": {
        "id": "YUNj4A3OsDZh"
      }
    },
    {
      "cell_type": "code",
      "source": [
        "# Create a parent class Animal with a method speak() that prints a generic message. Create a child class Dog that overrides the speak() method to print \"Bark!\".\n",
        "\n",
        "class Animal:\n",
        "    def speak(self):\n",
        "        print(\"The animal makes a sound.\")\n",
        "\n",
        "class Dog(Animal):\n",
        "    def speak(self):\n",
        "        print(\"Bark!\")\n",
        "\n",
        "a = Animal()\n",
        "a.speak()\n",
        "\n",
        "d = Dog()\n",
        "d.speak()\n"
      ],
      "metadata": {
        "colab": {
          "base_uri": "https://localhost:8080/"
        },
        "id": "lMBNUMlasMGD",
        "outputId": "2390cd2d-adf0-4213-b552-0dc9811102c4"
      },
      "execution_count": 4,
      "outputs": [
        {
          "output_type": "stream",
          "name": "stdout",
          "text": [
            "The animal makes a sound.\n",
            "Bark!\n"
          ]
        }
      ]
    },
    {
      "cell_type": "code",
      "source": [
        "# Write a program to create an abstract class Shape with a method area(). Derive classes Circle and Rectangle from it and implement the area() method in both.\n",
        "\n",
        "from abc import ABC, abstractmethod\n",
        "import math\n",
        "\n",
        "class Shape(ABC):\n",
        "    @abstractmethod\n",
        "    def area(self):\n",
        "        pass\n",
        "\n",
        "class Circle(Shape):\n",
        "    def __init__(self, radius):\n",
        "        self.radius = radius\n",
        "\n",
        "    def area(self):\n",
        "        return math.pi * self.radius ** 2\n",
        "\n",
        "class Rectangle(Shape):\n",
        "    def __init__(self, width, height):\n",
        "        self.width = width\n",
        "        self.height = height\n",
        "\n",
        "    def area(self):\n",
        "        return self.width * self.height\n",
        "\n",
        "circle = Circle(5)\n",
        "rectangle = Rectangle(4, 6)\n",
        "\n",
        "print(f\"Area of Circle: {circle.area():.2f}\")\n",
        "print(f\"Area of Rectangle: {rectangle.area()}\")\n"
      ],
      "metadata": {
        "colab": {
          "base_uri": "https://localhost:8080/"
        },
        "id": "AQXNg1l8sspF",
        "outputId": "3e7fa152-88c8-42c0-86ca-9ce901a9379e"
      },
      "execution_count": 8,
      "outputs": [
        {
          "output_type": "stream",
          "name": "stdout",
          "text": [
            "Area of Circle: 78.54\n",
            "Area of Rectangle: 24\n"
          ]
        }
      ]
    },
    {
      "cell_type": "code",
      "source": [
        "#. Implement a multi-level inheritance scenario where a class Vehicle has an attribute type. Derive a class Car and further derive a class ElectricCar that adds a battery attribute.\n",
        "\n",
        "class Vehicle:\n",
        "    def __init__(self, vehicle_type):\n",
        "        self.type = vehicle_type\n",
        "\n",
        "    def display_type(self):\n",
        "        print(f\"Vehicle type: {self.type}\")\n",
        "\n",
        "class Car(Vehicle):\n",
        "    def __init__(self, vehicle_type, brand):\n",
        "        super().__init__(vehicle_type)\n",
        "        self.brand = brand\n",
        "\n",
        "    def display_brand(self):\n",
        "        print(f\"Car brand: {self.brand}\")\n",
        "\n",
        "class ElectricCar(Car):\n",
        "    def __init__(self, vehicle_type, brand, battery_capacity):\n",
        "        super().__init__(vehicle_type, brand)\n",
        "        self.battery = battery_capacity\n",
        "\n",
        "    def display_battery(self):\n",
        "        print(f\"Battery capacity: {self.battery} kWh\")\n",
        "\n",
        "ecar = ElectricCar(\"Four-wheeler\", \"Tesla\", 85)\n",
        "ecar.display_type()\n",
        "ecar.display_brand()\n",
        "ecar.display_battery()\n"
      ],
      "metadata": {
        "colab": {
          "base_uri": "https://localhost:8080/"
        },
        "id": "KOew8WcrtS4Q",
        "outputId": "ed89c0fc-46f8-4407-f8ab-75fec24cc06a"
      },
      "execution_count": 10,
      "outputs": [
        {
          "output_type": "stream",
          "name": "stdout",
          "text": [
            "Vehicle type: Four-wheeler\n",
            "Car brand: Tesla\n",
            "Battery capacity: 85 kWh\n"
          ]
        }
      ]
    },
    {
      "cell_type": "code",
      "source": [
        "#Demonstrate polymorphism by creating a base class Bird with a method fly(). Create two derived classes Sparrow and Penguin that override the fly() method.\n",
        "\n",
        "class Bird:\n",
        "    def fly(self):\n",
        "        print(\"Bird is flying in some way.\")\n",
        "\n",
        "class Sparrow(Bird):\n",
        "    def fly(self):\n",
        "        print(\"Sparrow flies high in the sky.\")\n",
        "\n",
        "class Penguin(Bird):\n",
        "    def fly(self):\n",
        "        print(\"Penguins cannot fly, they swim.\")\n",
        "\n",
        "def bird_flight(bird):\n",
        "    bird.fly()\n",
        "\n",
        "birds = [Sparrow(), Penguin()]\n",
        "\n",
        "for b in birds:\n",
        "    bird_flight(b)\n"
      ],
      "metadata": {
        "colab": {
          "base_uri": "https://localhost:8080/"
        },
        "id": "jnFLcyPCtkcz",
        "outputId": "4839c7d2-dd49-4697-d5eb-155de42e08e4"
      },
      "execution_count": 11,
      "outputs": [
        {
          "output_type": "stream",
          "name": "stdout",
          "text": [
            "Sparrow flies high in the sky.\n",
            "Penguins cannot fly, they swim.\n"
          ]
        }
      ]
    },
    {
      "cell_type": "code",
      "source": [
        "#Write a program to demonstrate encapsulation by creating a class BankAccount with private attributes balance and methods to deposit, withdraw, and check balance.\n",
        "\n",
        "class BankAccount:\n",
        "    def __init__(self, initial_balance=0):\n",
        "        self.__balance = initial_balance\n",
        "\n",
        "    def deposit(self, amount):\n",
        "        if amount > 0:\n",
        "            self.__balance += amount\n",
        "            print(f\"Deposited: {amount}\")\n",
        "        else:\n",
        "            print(\"Deposit amount must be positive.\")\n",
        "\n",
        "    def withdraw(self, amount):\n",
        "        if 0 < amount <= self.__balance:\n",
        "            self.__balance -= amount\n",
        "            print(f\"Withdrawn: {amount}\")\n",
        "        else:\n",
        "            print(\"Invalid withdrawal amount or insufficient funds.\")\n",
        "\n",
        "    def check_balance(self):\n",
        "        print(f\"Current balance: {self.__balance}\")\n",
        "\n",
        "account = BankAccount(100)\n",
        "account.check_balance()\n",
        "account.deposit(50)\n",
        "account.withdraw(30)\n",
        "account.check_balance()"
      ],
      "metadata": {
        "colab": {
          "base_uri": "https://localhost:8080/"
        },
        "id": "FJNyL5MOt08l",
        "outputId": "948112ca-bf11-4eb8-b708-7bc40cf28109"
      },
      "execution_count": 12,
      "outputs": [
        {
          "output_type": "stream",
          "name": "stdout",
          "text": [
            "Current balance: 100\n",
            "Deposited: 50\n",
            "Withdrawn: 30\n",
            "Current balance: 120\n"
          ]
        }
      ]
    },
    {
      "cell_type": "code",
      "source": [
        "# Demonstrate runtime polymorphism using a method play() in a base class Instrument. Derive classes Guitar and Piano that implement their own version of play().\n",
        "\n",
        "class Instrument:\n",
        "    def play(self):\n",
        "        print(\"Playing some instrument.\")\n",
        "\n",
        "class Guitar(Instrument):\n",
        "    def play(self):\n",
        "        print(\"Strumming the guitar.\")\n",
        "\n",
        "class Piano(Instrument):\n",
        "    def play(self):\n",
        "        print(\"Playing the piano keys.\")\n",
        "\n",
        "def perform_play(instrument):\n",
        "    instrument.play()\n",
        "\n",
        "instruments = [Guitar(), Piano()]\n",
        "\n",
        "for instr in instruments:\n",
        "    perform_play(instr)\n"
      ],
      "metadata": {
        "colab": {
          "base_uri": "https://localhost:8080/"
        },
        "id": "nwYiOuWBt2Ad",
        "outputId": "7b7871f4-f887-4ae2-b6f6-3c15558af7dc"
      },
      "execution_count": 13,
      "outputs": [
        {
          "output_type": "stream",
          "name": "stdout",
          "text": [
            "Strumming the guitar.\n",
            "Playing the piano keys.\n"
          ]
        }
      ]
    },
    {
      "cell_type": "code",
      "source": [
        "#Create a class MathOperations with a class method add_numbers() to add two numbers and a static method subtract_numbers() to subtract two numbers\n",
        "\n",
        "class MathOperations:\n",
        "\n",
        "    @classmethod\n",
        "    def add_numbers(cls, a, b):\n",
        "        return a + b\n",
        "\n",
        "    @staticmethod\n",
        "    def subtract_numbers(a, b):\n",
        "        return a - b\n",
        "\n",
        "sum_result = MathOperations.add_numbers(10, 5)\n",
        "diff_result = MathOperations.subtract_numbers(10, 5)\n",
        "\n",
        "print(f\"Sum: {sum_result}\")\n",
        "print(f\"Difference: {diff_result}\")\n"
      ],
      "metadata": {
        "colab": {
          "base_uri": "https://localhost:8080/"
        },
        "id": "Sff8Lxdht2Hr",
        "outputId": "da407248-b870-40ef-96de-a6b58de71a06"
      },
      "execution_count": 14,
      "outputs": [
        {
          "output_type": "stream",
          "name": "stdout",
          "text": [
            "Sum: 15\n",
            "Difference: 5\n"
          ]
        }
      ]
    },
    {
      "cell_type": "code",
      "source": [
        "# Implement a class Person with a class method to count the total number of persons created.\n",
        "\n",
        "class Person:\n",
        "    _count = 0\n",
        "\n",
        "    def __init__(self, name):\n",
        "        self.name = name\n",
        "        Person._count += 1\n",
        "\n",
        "    @classmethod\n",
        "    def total_persons(cls):\n",
        "        return cls._count\n",
        "\n",
        "p1 = Person(\"Alice\")\n",
        "p2 = Person(\"Bob\")\n",
        "p3 = Person(\"Charlie\")\n",
        "\n",
        "print(f\"Total persons created: {Person.total_persons()}\")\n"
      ],
      "metadata": {
        "colab": {
          "base_uri": "https://localhost:8080/"
        },
        "id": "hOZAkLHvt2M3",
        "outputId": "0851a71f-06a7-4d89-f13c-0e8b9a010232"
      },
      "execution_count": 15,
      "outputs": [
        {
          "output_type": "stream",
          "name": "stdout",
          "text": [
            "Total persons created: 3\n"
          ]
        }
      ]
    },
    {
      "cell_type": "code",
      "source": [
        "#Write a class Fraction with attributes numerator and denominator. Override the str method to display the fraction as \"numerator/denominator\".\n",
        "\n",
        "class Fraction:\n",
        "    def __init__(self, numerator, denominator):\n",
        "        self.numerator = numerator\n",
        "        self.denominator = denominator\n",
        "\n",
        "    def __str__(self):\n",
        "        return f\"{self.numerator}/{self.denominator}\"\n",
        "\n",
        "frac = Fraction(3, 4)\n",
        "print(frac)\n"
      ],
      "metadata": {
        "colab": {
          "base_uri": "https://localhost:8080/"
        },
        "id": "r-Uukjf0t2SL",
        "outputId": "a00e1a5b-1bf7-4bbd-97bb-c48ee1f901e0"
      },
      "execution_count": 16,
      "outputs": [
        {
          "output_type": "stream",
          "name": "stdout",
          "text": [
            "3/4\n"
          ]
        }
      ]
    },
    {
      "cell_type": "code",
      "source": [
        "#Demonstrate operator overloading by creating a class Vector and overriding the add method to add two vectors.\n",
        "\n",
        "class Vector:\n",
        "    def __init__(self, x, y):\n",
        "        self.x = x\n",
        "        self.y = y\n",
        "\n",
        "    def __add__(self, other):\n",
        "        if isinstance(other, Vector):\n",
        "            return Vector(self.x + other.x, self.y + other.y)\n",
        "        else:\n",
        "            raise TypeError(\"Operands must be Vector instances\")\n",
        "\n",
        "    def __str__(self):\n",
        "        return f\"Vector({self.x}, {self.y})\"\n",
        "\n",
        "v1 = Vector(2, 3)\n",
        "v2 = Vector(4, 5)\n",
        "v3 = v1 + v2\n",
        "\n",
        "print(v3)\n"
      ],
      "metadata": {
        "colab": {
          "base_uri": "https://localhost:8080/"
        },
        "id": "WZeBWXYHt2Wg",
        "outputId": "cd8bd863-5a60-419f-ea46-3df0124f1964"
      },
      "execution_count": 17,
      "outputs": [
        {
          "output_type": "stream",
          "name": "stdout",
          "text": [
            "Vector(6, 8)\n"
          ]
        }
      ]
    },
    {
      "cell_type": "code",
      "source": [
        "#Create a class Person with attributes name and age. Add a method greet() that prints \"Hello, my name is {name} and I am {age} years old.\"\n",
        "\n",
        "class Person:\n",
        "    def __init__(self, name, age):\n",
        "        self.name = name\n",
        "        self.age = age\n",
        "\n",
        "    def greet(self):\n",
        "        print(f\"Hello, my name is {self.name} and I am {self.age} years old.\")\n",
        "\n",
        "person = Person(\"Alice\", 30)\n",
        "person.greet()"
      ],
      "metadata": {
        "colab": {
          "base_uri": "https://localhost:8080/"
        },
        "id": "1Jcg1E7Ht2at",
        "outputId": "9ffbb3a6-7c1b-403e-c732-744c74ccaaab"
      },
      "execution_count": 18,
      "outputs": [
        {
          "output_type": "stream",
          "name": "stdout",
          "text": [
            "Hello, my name is Alice and I am 30 years old.\n"
          ]
        }
      ]
    },
    {
      "cell_type": "code",
      "source": [
        "#Implement a class Student with attributes name and grades. Create a method average_grade() to compute the average of the grades\n",
        "\n",
        "class Student:\n",
        "    def __init__(self, name, grades):\n",
        "        self.name = name\n",
        "        self.grades = grades\n",
        "\n",
        "    def average_grade(self):\n",
        "        if not self.grades:\n",
        "            return 0\n",
        "        return sum(self.grades) / len(self.grades)\n",
        "\n",
        "student = Student(\"John\", [85, 90, 78, 92])\n",
        "print(f\"{student.name}'s average grade is {student.average_grade():.2f}\")\n"
      ],
      "metadata": {
        "colab": {
          "base_uri": "https://localhost:8080/"
        },
        "id": "ScbpiSyqt2ef",
        "outputId": "360558bd-36ad-4bfd-99c4-8073a8ac2ab8"
      },
      "execution_count": 19,
      "outputs": [
        {
          "output_type": "stream",
          "name": "stdout",
          "text": [
            "John's average grade is 86.25\n"
          ]
        }
      ]
    },
    {
      "cell_type": "code",
      "source": [
        "#Create a class Rectangle with methods set_dimensions() to set the dimensions and area() to calculate the area.\n",
        "\n",
        "class Rectangle:\n",
        "    def __init__(self):\n",
        "        self.width = 0\n",
        "        self.height = 0\n",
        "\n",
        "    def set_dimensions(self, width, height):\n",
        "        self.width = width\n",
        "        self.height = height\n",
        "\n",
        "    def area(self):\n",
        "        return self.width * self.height\n",
        "\n",
        "# Example usage\n",
        "rect = Rectangle()\n",
        "rect.set_dimensions(5, 3)\n",
        "print(f\"Area of rectangle: {rect.area()}\")\n"
      ],
      "metadata": {
        "colab": {
          "base_uri": "https://localhost:8080/"
        },
        "id": "pE8QcYvAt2hB",
        "outputId": "634e0d41-3b3f-4e87-9ecb-22a0b62c4a68"
      },
      "execution_count": 20,
      "outputs": [
        {
          "output_type": "stream",
          "name": "stdout",
          "text": [
            "Area of rectangle: 15\n"
          ]
        }
      ]
    },
    {
      "cell_type": "code",
      "source": [
        "#Create a class Employee with a method calculate_salary() that computes the salary based on hours worked and hourly rate. Create a derived class Manager that adds a bonus to the salary.\n",
        "\n",
        "class Employee:\n",
        "    def __init__(self, name, hours_worked, hourly_rate):\n",
        "        self.name = name\n",
        "        self.hours_worked = hours_worked\n",
        "        self.hourly_rate = hourly_rate\n",
        "\n",
        "    def calculate_salary(self):\n",
        "        return self.hours_worked * self.hourly_rate\n",
        "\n",
        "class Manager(Employee):\n",
        "    def __init__(self, name, hours_worked, hourly_rate, bonus):\n",
        "        super().__init__(name, hours_worked, hourly_rate)\n",
        "        self.bonus = bonus\n",
        "\n",
        "    def calculate_salary(self):\n",
        "        base_salary = super().calculate_salary()\n",
        "        return base_salary + self.bonus\n",
        "\n",
        "emp = Employee(\"Alice\", 40, 20)\n",
        "mgr = Manager(\"Bob\", 40, 30, 500)\n",
        "\n",
        "print(f\"{emp.name}'s Salary: ${emp.calculate_salary()}\")\n",
        "print(f\"{mgr.name}'s Salary: ${mgr.calculate_salary()}\")\n"
      ],
      "metadata": {
        "colab": {
          "base_uri": "https://localhost:8080/"
        },
        "id": "bSdQ7lizt2i0",
        "outputId": "fddfb6ba-9ffe-480d-994a-2cb4e8cade21"
      },
      "execution_count": 21,
      "outputs": [
        {
          "output_type": "stream",
          "name": "stdout",
          "text": [
            "Alice's Salary: $800\n",
            "Bob's Salary: $1700\n"
          ]
        }
      ]
    },
    {
      "cell_type": "code",
      "source": [
        "#Create a class Product with attributes name, price, and quantity. Implement a method total_price() that calculates the total price of the product.\n",
        "\n",
        "class Product:\n",
        "    def __init__(self, name, price, quantity):\n",
        "        self.name = name\n",
        "        self.price = price\n",
        "        self.quantity = quantity\n",
        "\n",
        "    def total_price(self):\n",
        "        return self.price * self.quantity\n",
        "\n",
        "product = Product(\"Laptop\", 1200, 3)\n",
        "print(f\"Total price for {product.name}: ${product.total_price()}\")\n"
      ],
      "metadata": {
        "colab": {
          "base_uri": "https://localhost:8080/"
        },
        "id": "0gfoFcuPt2lJ",
        "outputId": "b33a7972-b071-45c2-f95d-2e0e892970a5"
      },
      "execution_count": 22,
      "outputs": [
        {
          "output_type": "stream",
          "name": "stdout",
          "text": [
            "Total price for Laptop: $3600\n"
          ]
        }
      ]
    },
    {
      "cell_type": "code",
      "source": [
        "#Create a class Animal with an abstract method sound(). Create two derived classes Cow and Sheep that implement the sound() method.\n",
        "\n",
        "from abc import ABC, abstractmethod\n",
        "\n",
        "class Animal(ABC):\n",
        "    @abstractmethod\n",
        "    def sound(self):\n",
        "        pass\n",
        "\n",
        "class Cow(Animal):\n",
        "    def sound(self):\n",
        "        print(\"Moo\")\n",
        "\n",
        "class Sheep(Animal):\n",
        "    def sound(self):\n",
        "        print(\"Baa\")\n",
        "\n",
        "cow = Cow()\n",
        "sheep = Sheep()\n",
        "\n",
        "cow.sound()\n",
        "sheep.sound()\n"
      ],
      "metadata": {
        "colab": {
          "base_uri": "https://localhost:8080/"
        },
        "id": "SeOVvJa_t2nK",
        "outputId": "bd998288-e8fa-4c14-cceb-cac205fce94c"
      },
      "execution_count": 23,
      "outputs": [
        {
          "output_type": "stream",
          "name": "stdout",
          "text": [
            "Moo\n",
            "Baa\n"
          ]
        }
      ]
    },
    {
      "cell_type": "code",
      "source": [
        "#Create a class Book with attributes title, author, and year_published. Add a method get_book_info() that returns a formatted string with the book's details.\n",
        "\n",
        "class Book:\n",
        "    def __init__(self, title, author, year_published):\n",
        "        self.title = title\n",
        "        self.author = author\n",
        "        self.year_published = year_published\n",
        "\n",
        "    def get_book_info(self):\n",
        "        return f\"'{self.title}' by {self.author}, published in {self.year_published}\"\n",
        "\n",
        "book = Book(\"1984\", \"George Orwell\", 1949)\n",
        "print(book.get_book_info())\n"
      ],
      "metadata": {
        "colab": {
          "base_uri": "https://localhost:8080/"
        },
        "id": "3GitIFEuwRJr",
        "outputId": "633c4826-e924-4b87-ee18-a305a3c46389"
      },
      "execution_count": 24,
      "outputs": [
        {
          "output_type": "stream",
          "name": "stdout",
          "text": [
            "'1984' by George Orwell, published in 1949\n"
          ]
        }
      ]
    },
    {
      "cell_type": "code",
      "source": [
        "#Create a class House with attributes address and price. Create a derived class Mansion that adds an attribute number_of_rooms.\n",
        "\n",
        "class House:\n",
        "    def __init__(self, address, price):\n",
        "        self.address = address\n",
        "        self.price = price\n",
        "\n",
        "class Mansion(House):\n",
        "    def __init__(self, address, price, number_of_rooms):\n",
        "        super().__init__(address, price)\n",
        "        self.number_of_rooms = number_of_rooms\n",
        "\n",
        "house = House(\"123 Maple St\", 250000)\n",
        "mansion = Mansion(\"456 Oak Ave\", 1250000, 10)\n",
        "\n",
        "print(f\"House at {house.address} costs ${house.price}\")\n",
        "print(f\"Mansion at {mansion.address} costs ${mansion.price} and has {mansion.number_of_rooms} rooms\")\n"
      ],
      "metadata": {
        "colab": {
          "base_uri": "https://localhost:8080/"
        },
        "id": "SSjKUuFwwRRD",
        "outputId": "c920640a-668f-46f7-8d5d-6376256359b7"
      },
      "execution_count": 25,
      "outputs": [
        {
          "output_type": "stream",
          "name": "stdout",
          "text": [
            "House at 123 Maple St costs $250000\n",
            "Mansion at 456 Oak Ave costs $1250000 and has 10 rooms\n"
          ]
        }
      ]
    }
  ]
}